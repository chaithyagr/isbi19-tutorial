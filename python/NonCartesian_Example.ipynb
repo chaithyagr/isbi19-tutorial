{
 "cells": [
  {
   "cell_type": "markdown",
   "metadata": {
    "pycharm": {
     "name": "#%% md\n"
    }
   },
   "source": [
    "\"\"\"\n",
    "Neuroimaging cartesian reconstruction\n",
    "=====================================\n",
    "Author: Chaithya G R\n",
    "In this tutorial we will reconstruct an MRI image from the sparse kspace\n",
    "measurements.\n",
    "Import neuroimaging data\n",
    "------------------------\n",
    "We use the toy datasets available in pysap, more specifically a 2D brain slice\n",
    "and the non cartesian acquisition scheme.\n",
    "\"\"\"\n"
   ]
  },
  {
   "cell_type": "code",
   "execution_count": 1,
   "metadata": {
    "pycharm": {
     "is_executing": false,
     "name": "#%%\n"
    }
   },
   "outputs": [
    {
     "ename": "ModuleNotFoundError",
     "evalue": "No module named 'mri.numerics'",
     "output_type": "error",
     "traceback": [
      "\u001b[0;31m---------------------------------------------------------------------------\u001b[0m",
      "\u001b[0;31mModuleNotFoundError\u001b[0m                       Traceback (most recent call last)",
      "\u001b[0;32m<ipython-input-1-2aafb63e53ff>\u001b[0m in \u001b[0;36m<module>\u001b[0;34m\u001b[0m\n\u001b[1;32m      1\u001b[0m \u001b[0;31m# Package import\u001b[0m\u001b[0;34m\u001b[0m\u001b[0;34m\u001b[0m\u001b[0;34m\u001b[0m\u001b[0m\n\u001b[0;32m----> 2\u001b[0;31m \u001b[0;32mfrom\u001b[0m \u001b[0mmri\u001b[0m\u001b[0;34m.\u001b[0m\u001b[0mnumerics\u001b[0m\u001b[0;34m.\u001b[0m\u001b[0mfourier\u001b[0m \u001b[0;32mimport\u001b[0m \u001b[0mNFFT\u001b[0m\u001b[0;34m\u001b[0m\u001b[0;34m\u001b[0m\u001b[0m\n\u001b[0m\u001b[1;32m      3\u001b[0m \u001b[0;32mfrom\u001b[0m \u001b[0mmri\u001b[0m\u001b[0;34m.\u001b[0m\u001b[0mnumerics\u001b[0m\u001b[0;34m.\u001b[0m\u001b[0mreconstruct\u001b[0m \u001b[0;32mimport\u001b[0m \u001b[0msparse_rec_fista\u001b[0m\u001b[0;34m\u001b[0m\u001b[0;34m\u001b[0m\u001b[0m\n\u001b[1;32m      4\u001b[0m \u001b[0;32mfrom\u001b[0m \u001b[0mmri\u001b[0m\u001b[0;34m.\u001b[0m\u001b[0mnumerics\u001b[0m\u001b[0;34m.\u001b[0m\u001b[0mutils\u001b[0m \u001b[0;32mimport\u001b[0m \u001b[0mgenerate_operators\u001b[0m\u001b[0;34m\u001b[0m\u001b[0;34m\u001b[0m\u001b[0m\n\u001b[1;32m      5\u001b[0m \u001b[0;32mfrom\u001b[0m \u001b[0mmri\u001b[0m\u001b[0;34m.\u001b[0m\u001b[0mnumerics\u001b[0m\u001b[0;34m.\u001b[0m\u001b[0mutils\u001b[0m \u001b[0;32mimport\u001b[0m \u001b[0mconvert_locations_to_mask\u001b[0m\u001b[0;34m\u001b[0m\u001b[0;34m\u001b[0m\u001b[0m\n",
      "\u001b[0;31mModuleNotFoundError\u001b[0m: No module named 'mri.numerics'"
     ]
    }
   ],
   "source": [
    "# Package import\n",
    "from mri.numerics.fourier import NFFT\n",
    "from mri.numerics.reconstruct import sparse_rec_fista\n",
    "from mri.numerics.utils import generate_operators\n",
    "from mri.numerics.utils import convert_locations_to_mask\n",
    "from mri.parallel_mri.extract_sensitivity_maps import \\\n",
    "    gridded_inverse_fourier_transform_nd\n",
    "import pysap\n",
    "from pysap.data import get_sample_data\n",
    "# Third party import\n",
    "from modopt.math.metrics import ssim\n",
    "import numpy as np\n",
    "import matplotlib.pyplot as plt"
   ]
  },
  {
   "cell_type": "markdown",
   "metadata": {
    "pycharm": {
     "name": "#%% md\n"
    }
   },
   "source": [
    "Loading input data"
   ]
  },
  {
   "cell_type": "code",
   "execution_count": null,
   "metadata": {
    "pycharm": {
     "is_executing": false,
     "name": "#%%\n"
    }
   },
   "outputs": [],
   "source": [
    "image = get_sample_data('2d-mri')\n",
    "\n",
    "# Obtain MRI non-cartesian mask\n",
    "radial_mask = get_sample_data(\"mri-radial-samples\")\n",
    "kspace_loc = radial_mask.data\n",
    "mask = pysap.Image(data=convert_locations_to_mask(kspace_loc, image.shape))\n",
    "\n",
    "# View Input\n",
    "plt.figure()\n",
    "plt.imshow(image, cmap='gray')\n",
    "plt.figure()\n",
    "plt.imshow(mask, cmap='gray')\n",
    "plt.show()"
   ]
  },
  {
   "cell_type": "markdown",
   "metadata": {
    "pycharm": {
     "name": "#%% md\n"
    }
   },
   "source": [
    "Generate the kspace\n",
    "-------------------\n",
    "\n",
    "From the 2D brain slice and the acquisition mask, we retrospectively\n",
    "undersample the k-space using a cartesian acquisition mask\n",
    "We then reconstruct the zero order solution as a baseline"
   ]
  },
  {
   "cell_type": "markdown",
   "metadata": {
    "pycharm": {
     "name": "#%% md\n"
    }
   },
   "source": [
    "Get the locations of the kspace samples"
   ]
  },
  {
   "cell_type": "code",
   "execution_count": null,
   "metadata": {
    "pycharm": {
     "is_executing": false,
     "name": "#%%\n"
    }
   },
   "outputs": [],
   "source": [
    "fourier_op = NFFT(samples=kspace_loc, shape=image.shape)\n",
    "kspace_obs = fourier_op.op(image.data)"
   ]
  },
  {
   "cell_type": "markdown",
   "metadata": {
    "pycharm": {
     "name": "#%% md\n"
    }
   },
   "source": [
    "Gridded solution"
   ]
  },
  {
   "cell_type": "code",
   "execution_count": null,
   "metadata": {
    "pycharm": {
     "is_executing": false,
     "name": "#%%\n"
    }
   },
   "outputs": [],
   "source": [
    "grid_space = np.linspace(-0.5, 0.5, num=image.shape[0])\n",
    "grid2D = np.meshgrid(grid_space, grid_space)\n",
    "grid_soln = gridded_inverse_fourier_transform_nd(kspace_loc, kspace_obs,\n",
    "                                                 tuple(grid2D), 'linear')\n",
    "image_rec0 = pysap.Image(data=grid_soln)\n",
    "plt.figure()\n",
    "plt.imshow(np.abs(image_rec0), cmap='gray')\n",
    "plt.show()\n",
    "base_ssim = ssim(image_rec0, image)\n",
    "print('The Base SSIM is : ' + str(base_ssim))"
   ]
  },
  {
   "cell_type": "markdown",
   "metadata": {
    "pycharm": {
     "name": "#%% md\n"
    }
   },
   "source": [
    "FISTA optimization\n",
    "------------------\n",
    "\n",
    "We now want to refine the zero order solution using a FISTA optimization.\n",
    "The cost function is set to Proximity Cost + Gradient Cost"
   ]
  },
  {
   "cell_type": "markdown",
   "metadata": {
    "pycharm": {
     "name": "#%% md\n"
    }
   },
   "source": [
    "# Generate operators"
   ]
  },
  {
   "cell_type": "code",
   "execution_count": null,
   "metadata": {
    "pycharm": {
     "is_executing": false,
     "name": "#%%\n"
    }
   },
   "outputs": [],
   "source": [
    "gradient_op, linear_op, prox_op, cost_op = generate_operators(\n",
    "    data=kspace_obs,\n",
    "    wavelet_name=\"sym8\",\n",
    "    samples=kspace_loc,\n",
    "    mu=6 * 1e-7,\n",
    "    nb_scales=4,\n",
    "    non_cartesian=True,\n",
    "    uniform_data_shape=image.shape,\n",
    "    gradient_space=\"synthesis\")"
   ]
  },
  {
   "cell_type": "markdown",
   "metadata": {
    "pycharm": {
     "name": "#%% md\n"
    }
   },
   "source": [
    "Start the FISTA reconstruction"
   ]
  },
  {
   "cell_type": "code",
   "execution_count": null,
   "metadata": {
    "pycharm": {
     "is_executing": false,
     "name": "#%%\n"
    }
   },
   "outputs": [],
   "source": [
    "max_iter = 200\n",
    "x_final, costs, metrics = sparse_rec_fista(\n",
    "    gradient_op,\n",
    "    linear_op,\n",
    "    prox_op,\n",
    "    cost_op,\n",
    "    lambda_init=1,\n",
    "    max_nb_of_iter=max_iter,\n",
    "    atol=1e-4,\n",
    "    verbose=1)\n",
    "image_rec = pysap.Image(data=np.abs(x_final))\n",
    "plt.figure()\n",
    "plt.imshow(image_rec, cmap='gray')\n",
    "plt.show()\n",
    "# Calculate SSIM\n",
    "recon_ssim = ssim(image_rec, image)\n",
    "print('The Reconstruction SSIM is : ' + str(recon_ssim))\n",
    "plt.show()"
   ]
  }
 ],
 "metadata": {
  "kernelspec": {
   "display_name": "Python 3",
   "language": "python",
   "name": "python3"
  },
  "language_info": {
   "codemirror_mode": {
    "name": "ipython",
    "version": 3
   },
   "file_extension": ".py",
   "mimetype": "text/x-python",
   "name": "python",
   "nbconvert_exporter": "python",
   "pygments_lexer": "ipython3",
   "version": "3.7.4"
  },
  "pycharm": {
   "stem_cell": {
    "cell_type": "raw",
    "metadata": {
     "collapsed": false
    },
    "source": []
   }
  }
 },
 "nbformat": 4,
 "nbformat_minor": 2
}
