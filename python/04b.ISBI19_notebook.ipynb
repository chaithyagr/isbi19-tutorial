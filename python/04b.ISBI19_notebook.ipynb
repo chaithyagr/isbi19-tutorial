{
 "cells": [
  {
   "cell_type": "markdown",
   "metadata": {},
   "source": [
    "## non-Cartesian under-sampling \n",
    "We generate non-Cartesian (i.e. off-the-grid) undersampling patterns.We thus manipulte continuous frequencies as a list of 2D coordinate points $(k_x,k_y)$.\n",
    "\n",
    "- Author: Philippe Ciuciu (philippe.ciuciu@cea.fr)\n",
    "- Date: 04/02/2019\n",
    "- Target: [ISBI'19 tutorial](https://biomedicalimaging.org/2019/tutorials/) on **Recent  advances in acquisition and reconstruction for Compressed Sensing MRI**\n",
    "- **Revision**: 01/05/2021 for ATSI MSc hands-on session at Paris-Saclay University."
   ]
  },
  {
   "cell_type": "code",
   "execution_count": 3,
   "metadata": {
    "pycharm": {
     "is_executing": false
    }
   },
   "outputs": [
    {
     "data": {
      "image/png": "[encoded data removed]",
      "text/plain": [
       "<Figure size 432x288 with 1 Axes>"
      ]
     },
     "metadata": {
      "needs_background": "light"
     },
     "output_type": "display_data"
    }
   ],
   "source": [
    "#DISPLAY BRAIN PHANTOM\n",
    "%matplotlib inline\n",
    "\n",
    "import numpy as np\n",
    "import os.path as op\n",
    "import os\n",
    "import math ; import cmath\n",
    "import matplotlib.pyplot as plt\n",
    "import sys\n",
    "\n",
    "from skimage import data, img_as_float, io, filters\n",
    "from skimage.measure import compare_ssim as ssim\n",
    "\n",
    "#get current working dir\n",
    "\n",
    "cwd = os.getcwd()\n",
    "dirimg_2d = op.join(cwd,\"..\",\"data\")\n",
    "img_size = 512   #256\n",
    "FOV = 0.2 #field of view parameter in m (ie real FOV = 20 x20 cm^2)\n",
    "pixel_size = FOV / img_size\n",
    "\n",
    "#load data file corresponding to the target resolution\n",
    "filename = \"BrainPhantom%s.png\" % img_size\n",
    "mri_filename = op.join(dirimg_2d, filename)\n",
    "mri_img = io.imread(mri_filename, as_gray=True)\n",
    "plt.figure()\n",
    "plt.title(\"Brain Phantom, size = \"+ str(img_size))\n",
    "if mri_img.ndim == 2:\n",
    "    plt.imshow(mri_img, cmap=plt.cm.gray)\n",
    "else:\n",
    "    plt.imshow(mri_img)\n",
    "plt.show()"
   ]
  },
  {
   "cell_type": "code",
   "execution_count": 4,
   "metadata": {
    "pycharm": {
     "is_executing": false
    }
   },
   "outputs": [],
   "source": [
    "#PARAMETERS AND CONSTRAINTS\n",
    "from collections import namedtuple\n",
    "\n",
    "SamplingOptions = namedtuple(\"SamplingOptions\", \"nc ns OS_factor decim tau decay mask iter init Kmax Smax Gmax gamma dTime n_revol n_epi\")\n",
    "\n",
    "#Kmax depends of FOV and image resolution (NS criterion)\n",
    "#Gmax and Smax : maximum gradient (T/m) and slew rate (T/m/ms)\n",
    "#tau, decay and mask parametrize the sampling density (mask=1 for circular - isotrope kspace - 0 otherwise)\n",
    "#iter = number of iterations (gradient descent steps?)\n",
    "#mask = initialization for SPARKLING (radial in-out, radial center-out, spiral in-out...)\n",
    "#gamma = gyromagnetic constant (Hz/T)\n",
    "\n",
    "sampling_options = SamplingOptions(\n",
    "    nc=35, #nc is the number of shots in the k-space\n",
    "    ns=3073, #ns is the number of gradient samples per shot\n",
    "    OS_factor=1, #Oversampling factor = (gradient raster time)/(gradient dwell time)\n",
    "    decim=64, # decimation factor \n",
    "\n",
    "    decay=2., # decay of the target radial sampling density\n",
    "    tau=0.75, # threshold for setting the plateau around k=0: 1/(nb per sample/k-space pixel)\n",
    "\n",
    "    mask=1,            # 1=isotropic, 0=square\n",
    "    iter=300,          # nb of iterations in the optim algorithm for Sparkling\n",
    "\n",
    "    Kmax=img_size / (2 * FOV), # Max sampling frequency in m^{-1}: same along k_x, k_y\n",
    "    Gmax=40e-3,            # hardware constraint on Gmax (gradient magnitude) in mT/m\n",
    "    Smax=200e-3,           # hardware constraint on Smax (slew rate) in mT/m/ms\n",
    "\n",
    "    gamma=42.576e3,  #gyro-magnetic ratio en kHz/T\n",
    "    dTime=0.010,     # dwellTime in ms\n",
    "    init=None,\n",
    "    n_revol=None,\n",
    "    n_epi=None\n",
    ")\n",
    "    #samplingOptions.n_revol = 1"
   ]
  },
  {
   "cell_type": "code",
   "execution_count": 5,
   "metadata": {
    "pycharm": {
     "is_executing": false
    }
   },
   "outputs": [
    {
     "name": "stdout",
     "output_type": "stream",
     "text": [
      "ns_shot_decim = 49\n",
      "Undersampling factor = 2 \n",
      "Acceleration factor = 14\n"
     ]
    }
   ],
   "source": [
    "#CALCULATED VALUES\n",
    "\n",
    "alpha = sampling_options.gamma * sampling_options.Gmax\n",
    "beta = sampling_options.gamma * sampling_options.Smax\n",
    "\n",
    "cst_ = 1./(2*np.pi)\n",
    "alpha_R = alpha / sampling_options.Kmax * cst_\n",
    "beta_R = beta / sampling_options.Kmax * cst_\n",
    "\n",
    "ns_shot  = 2 * sampling_options.ns // 2 + 1 # odd number of samples for decimation\n",
    "\n",
    "ns_shot_decim = math.ceil(ns_shot / sampling_options.decim) # number of shots per decimation step\n",
    "\n",
    "print(\"ns_shot_decim = %s\" % ns_shot_decim)\n",
    "\n",
    "Dk0_R = 2 * pixel_size / FOV * 1. / (2. * np.pi) #divide by Kmax*2pi\n",
    "\n",
    "eps = sys.float_info.epsilon\n",
    "#print(\"epsilon = \" + str(eps))\n",
    "\n",
    "#Criterium (iii), eq (3.4) C.Lazarus PhD thesis\n",
    "alpha_R = min(Dk0_R / (sampling_options.dTime * sampling_options.OS_factor), alpha_R)\n",
    "\n",
    "#UNDERSAMPLING FACTOR\n",
    "#UF = np.power(img_size,2)/(samplingOptions.nc*samplingOptions.ns) #R in C.Lazarus phd 3.3.2\n",
    "us_fct = img_size**2 / (sampling_options.nc * sampling_options.ns) #R in C.Lazarus phd 3.3.2\n",
    "\n",
    "#ACCELERATION RATA\n",
    "#AF = img_size/samplingOptions.nc\n",
    "accel_fct = img_size / sampling_options.nc\n",
    "\n",
    "print(\"Undersampling factor = %d \" %  us_fct)\n",
    "print(\"Acceleration factor = %d\" % accel_fct)"
   ]
  },
  {
   "cell_type": "code",
   "execution_count": 6,
   "metadata": {
    "pycharm": {
     "is_executing": false
    }
   },
   "outputs": [
    {
     "name": "stdout",
     "output_type": "stream",
     "text": [
      "Initialization for Cartesian\n"
     ]
    }
   ],
   "source": [
    "print(\"Initialization for Cartesian\")\n",
    "\n",
    "k_TE = []\n",
    "k_TE_decim = []\n",
    "        \n",
    "shot_c = np.arange(1, img_size, dtype=np.complex_)\n",
    "\n",
    "himg_size = math.ceil(img_size / 2.)\n",
    "shot_c= (-shot_c / (himg_size - 1))\n",
    "shot_c+=  himg_size / (himg_size - 1)\n",
    "shot_c = shot_c * cst_\n",
    "shot = np.array([], dtype=np.complex_)\n",
    "\n",
    "vec_phase = shot_c * 2. * np.pi\n",
    "#print(vec_Phase)\n",
    "\n",
    "for k in vec_phase:\n",
    "    shotPhase =  shot_c + 1j * cst_ * k*np.ones(len(shot_c))\n",
    "    shot = np.append(shot, shotPhase)"
   ]
  },
  {
   "cell_type": "code",
   "execution_count": 7,
   "metadata": {
    "pycharm": {
     "is_executing": false
    },
    "scrolled": true
   },
   "outputs": [
    {
     "data": {
      "image/png": "[encoded data removed]",
      "text/plain": [
       "<Figure size 504x504 with 1 Axes>"
      ]
     },
     "metadata": {
      "needs_background": "light"
     },
     "output_type": "display_data"
    }
   ],
   "source": [
    "## PLOT SAMPLING SCHEME\n",
    "\n",
    "k_vec = np.zeros((len(shot), 2))\n",
    "k_vec[:, 0] = shot.real\n",
    "k_vec[:, 1] = shot.imag\n",
    "\n",
    "#Plot full initialization\n",
    "kspace = plt.figure(figsize=(7, 7))\n",
    "\n",
    "plt.scatter(k_vec[:, 0], k_vec[:, 1], marker='.', label=\"Full Initialization\")\n",
    "\n",
    "#axes = plt.gca() \n",
    "plt.grid()\n",
    "\n",
    "# Figure layout\n",
    "unit = 1. / 4.\n",
    "tick = np.arange(-0.5, 0.5 + unit, unit)\n",
    "label = [r\"$-\\frac{1}{2\\pi}$\", r\"$-\\frac{1}{4\\pi}$\", r\"$0$\", r\"$+\\frac{1}{4\\pi}$\",  r\"$+\\frac{1}{2\\pi}$\"]\n",
    "plt.xticks(tick / np.pi, label=label, fontsize=16)\n",
    "plt.yticks(tick / np.pi, label=label, fontsize=16)\n",
    "plt.xlabel(r\"$k_x$\", fontsize=22)\n",
    "plt.ylabel(r\"$k_y$\", fontsize=22)\n",
    "plt.title(\"K-space sampling, spiral in-out initialization , decimation = %s\" % sampling_options.decim,\n",
    "          fontsize=18)\n",
    "plt.legend(fontsize=16)\n",
    "plt.show()"
   ]
  },
  {
   "cell_type": "code",
   "execution_count": 9,
   "metadata": {
    "pycharm": {
     "is_executing": false
    }
   },
   "outputs": [
    {
     "ename": "ModuleNotFoundError",
     "evalue": "No module named 'pynufft'",
     "output_type": "error",
     "traceback": [
      "\u001b[0;31m---------------------------------------------------------------------------\u001b[0m",
      "\u001b[0;31mModuleNotFoundError\u001b[0m                       Traceback (most recent call last)",
      "\u001b[0;32m<ipython-input-9-a95595b92893>\u001b[0m in \u001b[0;36m<module>\u001b[0;34m\u001b[0m\n\u001b[1;32m      2\u001b[0m \u001b[0;32mimport\u001b[0m \u001b[0mscipy\u001b[0m\u001b[0;34m.\u001b[0m\u001b[0mmisc\u001b[0m\u001b[0;34m\u001b[0m\u001b[0;34m\u001b[0m\u001b[0m\n\u001b[1;32m      3\u001b[0m \u001b[0;32mimport\u001b[0m \u001b[0mmatplotlib\u001b[0m\u001b[0;34m.\u001b[0m\u001b[0mpyplot\u001b[0m\u001b[0;34m\u001b[0m\u001b[0;34m\u001b[0m\u001b[0m\n\u001b[0;32m----> 4\u001b[0;31m \u001b[0;32mfrom\u001b[0m \u001b[0mpynufft\u001b[0m \u001b[0;32mimport\u001b[0m \u001b[0mNUFFT_cpu\u001b[0m\u001b[0;34m\u001b[0m\u001b[0;34m\u001b[0m\u001b[0m\n\u001b[0m\u001b[1;32m      5\u001b[0m \u001b[0;32mfrom\u001b[0m \u001b[0mskimage\u001b[0m\u001b[0;34m.\u001b[0m\u001b[0mmeasure\u001b[0m \u001b[0;32mimport\u001b[0m \u001b[0mcompare_ssim\u001b[0m \u001b[0;32mas\u001b[0m \u001b[0mssim\u001b[0m\u001b[0;34m\u001b[0m\u001b[0;34m\u001b[0m\u001b[0m\n\u001b[1;32m      6\u001b[0m \u001b[0;34m\u001b[0m\u001b[0m\n",
      "\u001b[0;31mModuleNotFoundError\u001b[0m: No module named 'pynufft'"
     ]
    }
   ],
   "source": [
    "#from pynfft.nfft import NFFT\n",
    "import scipy.misc\n",
    "import matplotlib.pyplot \n",
    "from pynufft import NUFFT_cpu\n",
    "from skimage.measure import compare_ssim as ssim\n",
    "\n",
    "NufftObj = NUFFT_cpu()\n",
    "Nd = (img_size, img_size)  # image size\n",
    "print('setting image dimension Nd...', Nd)\n",
    "Kd = (img_size, img_size)  # k-space size\n",
    "print('setting spectrum dimension Kd...', Kd)\n",
    "Jd = (6, 6)  # interpolation size\n",
    "print('setting interpolation size Jd...', Jd)\n",
    "\n",
    "NufftObj.plan(k_vec * 2. * np.pi, Nd, Kd, Jd)\n",
    "\n",
    "mri_img = mri_img * 1.0 / np.max(mri_img) #image normalization\n",
    "\n",
    "recons = plt.figure(figsize=(5,5))\n",
    "kspace_data = NufftObj.forward(mri_img)\n",
    "print('setting non-uniform data')\n",
    "print('y is an (M,) list', type(kspace_data), kspace_data.shape)\n",
    "\n",
    "#image0 = NufftObj.solve(y, solver='cg',maxiter=50)\n",
    "img_rec0 = NufftObj.solve(kspace_data, solver='cg', maxiter=1e2)\n",
    "#SSIM\n",
    "ssim_rec0 = ssim(np.abs(mri_img), np.abs(img_rec0), data_range=mri_img.max() - img_rec0.min())\n",
    "ssim_rec0 = float(round(abs(ssim_rec0), 3))\n",
    "\n",
    "plt.title('Restored image (cg) : SSIM = ' + str(ssim_rec0))\n",
    "plt.imshow(img_rec0.real, cmap=matplotlib.cm.gray, norm=matplotlib.colors.Normalize(vmin=0.0, vmax=1))"
   ]
  },
  {
   "cell_type": "code",
   "execution_count": 10,
   "metadata": {
    "pycharm": {
     "is_executing": false
    }
   },
   "outputs": [
    {
     "ename": "ModuleNotFoundError",
     "evalue": "No module named 'mri.numerics'",
     "output_type": "error",
     "traceback": [
      "\u001b[0;31m---------------------------------------------------------------------------\u001b[0m",
      "\u001b[0;31mModuleNotFoundError\u001b[0m                       Traceback (most recent call last)",
      "\u001b[0;32m<ipython-input-10-7839f14af83a>\u001b[0m in \u001b[0;36m<module>\u001b[0;34m\u001b[0m\n\u001b[1;32m      3\u001b[0m \u001b[0;32mfrom\u001b[0m \u001b[0mmodopt\u001b[0m\u001b[0;34m.\u001b[0m\u001b[0mopt\u001b[0m\u001b[0;34m.\u001b[0m\u001b[0mlinear\u001b[0m \u001b[0;32mimport\u001b[0m \u001b[0mIdentity\u001b[0m\u001b[0;34m\u001b[0m\u001b[0;34m\u001b[0m\u001b[0m\n\u001b[1;32m      4\u001b[0m \u001b[0;32mfrom\u001b[0m \u001b[0mmodopt\u001b[0m\u001b[0;34m.\u001b[0m\u001b[0mopt\u001b[0m\u001b[0;34m.\u001b[0m\u001b[0mproximity\u001b[0m \u001b[0;32mimport\u001b[0m \u001b[0mSparseThreshold\u001b[0m\u001b[0;34m,\u001b[0m \u001b[0mLinearCompositionProx\u001b[0m\u001b[0;34m\u001b[0m\u001b[0;34m\u001b[0m\u001b[0m\n\u001b[0;32m----> 5\u001b[0;31m \u001b[0;32mfrom\u001b[0m \u001b[0mmri\u001b[0m\u001b[0;34m.\u001b[0m\u001b[0mnumerics\u001b[0m\u001b[0;34m.\u001b[0m\u001b[0mfourier\u001b[0m \u001b[0;32mimport\u001b[0m \u001b[0mNFFT\u001b[0m\u001b[0;34m\u001b[0m\u001b[0;34m\u001b[0m\u001b[0m\n\u001b[0m\u001b[1;32m      6\u001b[0m \u001b[0;32mfrom\u001b[0m \u001b[0mpysap\u001b[0m \u001b[0;32mimport\u001b[0m \u001b[0mImage\u001b[0m\u001b[0;34m\u001b[0m\u001b[0;34m\u001b[0m\u001b[0m\n\u001b[1;32m      7\u001b[0m \u001b[0;32mfrom\u001b[0m \u001b[0mmri\u001b[0m\u001b[0;34m.\u001b[0m\u001b[0mnumerics\u001b[0m\u001b[0;34m.\u001b[0m\u001b[0mgradient\u001b[0m \u001b[0;32mimport\u001b[0m \u001b[0mGradAnalysis2\u001b[0m\u001b[0;34m\u001b[0m\u001b[0;34m\u001b[0m\u001b[0m\n",
      "\u001b[0;31mModuleNotFoundError\u001b[0m: No module named 'mri.numerics'"
     ]
    }
   ],
   "source": [
    "# fista rec using PySAP (branch pogm_addition: https://github.com/zaccharieramzi/pysap/tree/pogm_addition)\n",
    "\n",
    "from modopt.opt.linear import Identity\n",
    "from modopt.opt.proximity import SparseThreshold, LinearCompositionProx\n",
    "from mri.numerics.fourier import NFFT\n",
    "from pysap import Image\n",
    "from mri.numerics.gradient import GradAnalysis2\n",
    "from mri.numerics.linear import WaveletN\n",
    "from mri.numerics.reconstruct import sparse_rec_pogm\n",
    "from mri.numerics.utils import convert_mask_to_locations\n",
    "from modopt.math.metrics import ssim\n",
    "\n",
    "## ops init\n",
    "kspace_loc = convert_mask_to_locations(k_vec)\n",
    "linear_op = WaveletN(\n",
    "    nb_scale=4,\n",
    "    wavelet_name=\"db4\",\n",
    "    padding_mode=\"periodization\",\n",
    ")\n",
    "\n",
    "fourier_op = NFFT(\n",
    "    samples= k_vec * np.pi,\n",
    "    shape= mri_img.shape,\n",
    ")\n",
    "\n",
    "##compute the kspace data\n",
    "kspace_data_nfft = fourier_op.op(mri_img)\n",
    "\n",
    "## now back to ops\n",
    "gradient_op = GradAnalysis2(\n",
    "    data=kspace_data_nfft,\n",
    "    fourier_op=fourier_op,\n",
    ")\n",
    "\n",
    "# define the proximity operator\n",
    "prox_op = LinearCompositionProx(\n",
    "    linear_op=linear_op,\n",
    "    prox_op=SparseThreshold(Identity(), 0.05, thresh_type=\"soft\"),\n",
    ")\n",
    "\n",
    "if 1:\n",
    "    ## run pogm' (ie POGM with restart)\n",
    "    x_final, costs, metrics = sparse_rec_pogm(prox_op=prox_op, linear_op=Identity(), gradient_op=gradient_op, \n",
    "                                    max_nb_of_iter=100, metric_call_period=20)\n",
    "\n",
    "pogm_rec = np.abs(x_final)\n",
    "img_rec = Image(data=pogm_rec)\n",
    "#img_rec.show()\n",
    "#img_rec = np.abs(x_final)\n",
    "#print(metrics)\n",
    "#SSIM\n",
    "\n",
    "ssim_pogm = ssim(mri_img, pogm_rec)\n",
    "ssim_pogm = float(round(abs(ssim_pogm),3))\n",
    "\n",
    "plt.figure()\n",
    "plt.title('Restored image (POGM) : SSIM = ' + str(ssim_pogm))\n",
    "plt.imshow(pogm_rec, cmap='gray')\n",
    "plt.show()"
   ]
  }
 ],
 "metadata": {
  "kernelspec": {
   "display_name": "Python 3",
   "language": "python",
   "name": "python3"
  },
  "language_info": {
   "codemirror_mode": {
    "name": "ipython",
    "version": 3
   },
   "file_extension": ".py",
   "mimetype": "text/x-python",
   "name": "python",
   "nbconvert_exporter": "python",
   "pygments_lexer": "ipython3",
   "version": "3.7.4"
  },
  "pycharm": {
   "stem_cell": {
    "cell_type": "raw",
    "metadata": {
     "collapsed": false
    },
    "source": []
   }
  }
 },
 "nbformat": 4,
 "nbformat_minor": 1
}
